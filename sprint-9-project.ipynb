{
 "cells": [
  {
   "attachments": {},
   "cell_type": "markdown",
   "metadata": {},
   "source": [
    "# Oil Well Anaylisis"
   ]
  },
  {
   "attachments": {},
   "cell_type": "markdown",
   "metadata": {},
   "source": [
    "## Introduction\n",
    "The project analyzes three regions to determine the most profitable location for a new oil well. Using linear regression, we'll predict oil reserves, calculate profits, and assess risks using bootstrapping.\n"
   ]
  },
  {
   "cell_type": "code",
   "execution_count": 1,
   "metadata": {},
   "outputs": [],
   "source": [
    "import pandas as pd\n",
    "import numpy as np\n",
    "from sklearn.model_selection import train_test_split\n",
    "from sklearn.linear_model import LinearRegression\n",
    "from sklearn.metrics import mean_squared_error\n",
    "import numpy as np\n",
    "import os"
   ]
  },
  {
   "attachments": {},
   "cell_type": "markdown",
   "metadata": {},
   "source": [
    "## Load and Examine/Prepare the Data"
   ]
  },
  {
   "attachments": {},
   "cell_type": "markdown",
   "metadata": {},
   "source": [
    "### Loading the Datasets"
   ]
  },
  {
   "cell_type": "code",
   "execution_count": 4,
   "metadata": {},
   "outputs": [],
   "source": [
    "def load_and_prepare_data():\n",
    "    data_0 = pd.read_csv('/Users/yaneiribaez/Downloads/geo_data_0.csv')\n",
    "    data_1 = pd.read_csv('/Users/yaneiribaez/Downloads/geo_data_1.csv')\n",
    "    data_2 = pd.read_csv('/Users/yaneiribaez/Downloads/geo_data_2.csv')\n",
    "    return data_0, data_1, data_2\n",
    "\n",
    "data_0, data_1, data_2 = load_and_prepare_data()"
   ]
  },
  {
   "attachments": {},
   "cell_type": "markdown",
   "metadata": {},
   "source": [
    "### Display basic info about datasets"
   ]
  },
  {
   "cell_type": "code",
   "execution_count": 14,
   "metadata": {},
   "outputs": [
    {
     "name": "stdout",
     "output_type": "stream",
     "text": [
      "\n",
      "Region 0 Summary\n",
      "      id        f0        f1        f2     product\n",
      "0  txEyH  0.705745 -0.497823  1.221170  105.280062\n",
      "1  2acmU  1.334711 -0.340164  4.365080   73.037750\n",
      "2  409Wp  1.022732  0.151990  1.419926   85.265647\n",
      "3  iJLyR -0.032172  0.139033  2.978566  168.620776\n",
      "4  Xdl7t  1.988431  0.155413  4.751769  154.036647\n",
      "                  f0             f1             f2        product\n",
      "count  100000.000000  100000.000000  100000.000000  100000.000000\n",
      "mean        0.500419       0.250143       2.502647      92.500000\n",
      "std         0.871832       0.504433       3.248248      44.288691\n",
      "min        -1.408605      -0.848218     -12.088328       0.000000\n",
      "25%        -0.072580      -0.200881       0.287748      56.497507\n",
      "50%         0.502360       0.250252       2.515969      91.849972\n",
      "75%         1.073581       0.700646       4.715088     128.564089\n",
      "max         2.362331       1.343769      16.003790     185.364347\n",
      "\n",
      "Region 1 Summary\n",
      "      id         f0         f1        f2     product\n",
      "0  kBEdx -15.001348  -8.276000 -0.005876    3.179103\n",
      "1  62mP7  14.272088  -3.475083  0.999183   26.953261\n",
      "2  vyE1P   6.263187  -5.948386  5.001160  134.766305\n",
      "3  KcrkZ -13.081196 -11.506057  4.999415  137.945408\n",
      "4  AHL4O  12.702195  -8.147433  5.004363  134.766305\n",
      "                  f0             f1             f2        product\n",
      "count  100000.000000  100000.000000  100000.000000  100000.000000\n",
      "mean        1.141296      -4.796579       2.494541      68.825000\n",
      "std         8.965932       5.119872       1.703572      45.944423\n",
      "min       -31.609576     -26.358598      -0.018144       0.000000\n",
      "25%        -6.298551      -8.267985       1.000021      26.953261\n",
      "50%         1.153055      -4.813172       2.011479      57.085625\n",
      "75%         8.621015      -1.332816       3.999904     107.813044\n",
      "max        29.421755      18.734063       5.019721     137.945408\n",
      "\n",
      "Region 2 Summary\n",
      "      id        f0        f1        f2     product\n",
      "0  fwXo0 -1.146987  0.963328 -0.828965   27.758673\n",
      "1  WJtFt  0.262778  0.269839 -2.530187   56.069697\n",
      "2  ovLUW  0.194587  0.289035 -5.586433   62.871910\n",
      "3  q6cA6  2.236060 -0.553760  0.930038  114.572842\n",
      "4  WPMUX -0.515993  1.716266  5.899011  149.600746\n",
      "                  f0             f1             f2        product\n",
      "count  100000.000000  100000.000000  100000.000000  100000.000000\n",
      "mean        0.002023      -0.002081       2.495128      95.000000\n",
      "std         1.732045       1.730417       3.473445      44.749921\n",
      "min        -8.760004      -7.084020     -11.970335       0.000000\n",
      "25%        -1.162288      -1.174820       0.130359      59.450441\n",
      "50%         0.009424      -0.009482       2.484236      94.925613\n",
      "75%         1.158535       1.163678       4.858794     130.595027\n",
      "max         7.238262       7.844801      16.739402     190.029838\n"
     ]
    }
   ],
   "source": [
    "def data_summary(data, name):\n",
    "    print(f\"\\n{name} Summary\")\n",
    "    print(data.head())\n",
    "    print(data.describe())\n",
    "\n",
    "data_summary(data_0, \"Region 0\")\n",
    "data_summary(data_1, \"Region 1\")\n",
    "data_summary(data_2, \"Region 2\")"
   ]
  },
  {
   "attachments": {},
   "cell_type": "markdown",
   "metadata": {},
   "source": [
    "### Section Summary\n",
    "In this section, we loaded and explored the datasets for three regions, each containing 100,000 samples with three features (f0, f1, f2) and a target variable (product) representing the volume of oil reserves. Region 0 has an average product value of 92.5 thousand barrels, ranging from 0 to approximately 185.4 thousand. The variability in feature f2(standard deviation of 3.25) suggests significant geological diversity within this region. Region 1 shows a lower average product value of 68.83 thousand barrels and a maximum of 137.9 thousand barrels, accompanied by higher variability in features f0 and f1, indicating broader fluctuations in geological conditions.\n",
    "\n",
    "Region 2 has the highest average product value of 95 thousand barrels and a maximum of 190 thousand barrels, with feature f2 again exhibiting the most significant variability among all features; this suggests that Region 2 may offer a more promising exploration site, though the broader range of f2 values indicates diverse and potentially challenging geological conditions. Across all regions, the data is clean with no missing values or irregularities, making it suitable for further modeling and analysis to determine the most profitable location for oil well development.\n"
   ]
  },
  {
   "attachments": {},
   "cell_type": "markdown",
   "metadata": {},
   "source": [
    "## Train and Test the Model for Each Region:"
   ]
  },
  {
   "cell_type": "code",
   "execution_count": 15,
   "metadata": {},
   "outputs": [
    {
     "name": "stdout",
     "output_type": "stream",
     "text": [
      "\n",
      "Region 0 Training\n",
      "RMSE: 37.75660035026169, Average Predicted Reserves: 92.39879990657768\n",
      "\n",
      "Region 1 Training\n",
      "RMSE: 0.890280100102884, Average Predicted Reserves: 68.71287803913762\n",
      "\n",
      "Region 2 Training\n",
      "RMSE: 40.145872311342174, Average Predicted Reserves: 94.77102387765939\n"
     ]
    }
   ],
   "source": [
    "# Function to train and test the model for a given dataset\n",
    "def train_and_evaluate_model(data):\n",
    "    X = data[['f0', 'f1', 'f2']]\n",
    "    y = data['product']\n",
    "\n",
    "    # Split data\n",
    "    X_train, X_valid, y_train, y_valid = train_test_split(X, y, test_size=0.25, random_state=42)\n",
    "\n",
    "    # Train model\n",
    "    model = LinearRegression()\n",
    "    model.fit(X_train, y_train)\n",
    "\n",
    "    # Predict and evaluate\n",
    "    predictions = model.predict(X_valid)\n",
    "    rmse = mean_squared_error(y_valid, predictions, squared=False)\n",
    "    avg_prediction = predictions.mean()\n",
    "\n",
    "    return model, predictions, y_valid, rmse, avg_prediction\n",
    "\n",
    "results = {}\n",
    "\n",
    "for i, data in enumerate([data_0, data_1, data_2]):\n",
    "    print(f\"\\nRegion {i} Training\")\n",
    "    model, predictions, y_valid, rmse, avg_prediction = train_and_evaluate_model(data)\n",
    "    results[f\"Region {i}\"] = (model, predictions, y_valid, rmse, avg_prediction)\n",
    "    print(f\"RMSE: {rmse}, Average Predicted Reserves: {avg_prediction}\")\n"
   ]
  },
  {
   "attachments": {},
   "cell_type": "markdown",
   "metadata": {},
   "source": [
    "## Preparation for Profit Calculation"
   ]
  },
  {
   "cell_type": "code",
   "execution_count": 16,
   "metadata": {},
   "outputs": [],
   "source": [
    "BUDGET = 100_000_000\n",
    "REVENUE_PER_BARREL = 4.5\n",
    "TOTAL_WELLS = 200\n",
    "WELL_COST = BUDGET / TOTAL_WELLS"
   ]
  },
  {
   "attachments": {},
   "cell_type": "markdown",
   "metadata": {},
   "source": [
    "## Calculate the sufficient volume of reserves"
   ]
  },
  {
   "cell_type": "code",
   "execution_count": 17,
   "metadata": {},
   "outputs": [
    {
     "name": "stdout",
     "output_type": "stream",
     "text": [
      "\n",
      "Region 0: Average Volume = 92.50, Sufficient Volume = 111111.11\n",
      "\n",
      "Region 1: Average Volume = 68.83, Sufficient Volume = 111111.11\n",
      "\n",
      "Region 2: Average Volume = 95.00, Sufficient Volume = 111111.11\n"
     ]
    }
   ],
   "source": [
    "sufficient_volume = WELL_COST / REVENUE_PER_BARREL\n",
    "\n",
    "for i, data in enumerate([data_0, data_1, data_2]):\n",
    "    avg_volume = data['product'].mean()\n",
    "    print(f\"\\nRegion {i}: Average Volume = {avg_volume:.2f}, Sufficient Volume = {sufficient_volume:.2f}\")"
   ]
  },
  {
   "attachments": {},
   "cell_type": "markdown",
   "metadata": {},
   "source": [
    "## Section Summary: \n",
    "The sufficient reserve volume for profit was calculated and compared with the average reserves in each region."
   ]
  },
  {
   "attachments": {},
   "cell_type": "markdown",
   "metadata": {},
   "source": [
    "## Profit Calculation Function"
   ]
  },
  {
   "cell_type": "code",
   "execution_count": 18,
   "metadata": {},
   "outputs": [],
   "source": [
    "def calculate_profit(predictions, y_valid):\n",
    "    sorted_predictions = predictions.sort_values(ascending=False)\n",
    "    top_predictions = sorted_predictions[:TOTAL_WELLS]\n",
    "    profit = (y_valid[top_predictions.index].sum() * REVENUE_PER_BARREL) - BUDGET\n",
    "    return profit"
   ]
  },
  {
   "attachments": {},
   "cell_type": "markdown",
   "metadata": {},
   "source": [
    "## Bootstrapping for Risk Assessment"
   ]
  },
  {
   "cell_type": "code",
   "execution_count": 19,
   "metadata": {},
   "outputs": [
    {
     "name": "stdout",
     "output_type": "stream",
     "text": [
      "\n",
      "Region 0 Results\n",
      "Mean Profit: $-99916861.66\n",
      "95% Confidence Interval: $-99922699.28 to $-99911267.79\n",
      "Risk of Loss: 100.00%\n",
      "\n",
      "Region 1 Results\n",
      "Mean Profit: $-99937958.76\n",
      "95% Confidence Interval: $-99943511.88 to $-99932558.14\n",
      "Risk of Loss: 100.00%\n",
      "\n",
      "Region 2 Results\n",
      "Mean Profit: $-99914238.83\n",
      "95% Confidence Interval: $-99919647.05 to $-99908404.07\n",
      "Risk of Loss: 100.00%\n"
     ]
    }
   ],
   "source": [
    "def bootstrap_profit(predictions, y_valid, iterations=1000):\n",
    "    profits = []\n",
    "    for _ in range(iterations):\n",
    "        sample = predictions.sample(n=TOTAL_WELLS, replace=True)\n",
    "        profit = calculate_profit(sample, y_valid)\n",
    "        profits.append(profit)\n",
    "\n",
    "    profits = np.array(profits)\n",
    "    mean_profit = profits.mean()\n",
    "    lower, upper = np.percentile(profits, [2.5, 97.5])\n",
    "    loss_risk = (profits < 0).mean()\n",
    "\n",
    "    return mean_profit, lower, upper, loss_risk\n",
    "\n",
    "for i, (model, predictions, y_valid, _, _) in enumerate(results.values()):\n",
    "    predictions = pd.Series(predictions, index=y_valid.index)\n",
    "    mean_profit, lower, upper, loss_risk = bootstrap_profit(predictions, y_valid)\n",
    "\n",
    "    print(f\"\\nRegion {i} Results\")\n",
    "    print(f\"Mean Profit: ${mean_profit:.2f}\")\n",
    "    print(f\"95% Confidence Interval: ${lower:.2f} to ${upper:.2f}\")\n",
    "    print(f\"Risk of Loss: {loss_risk * 100:.2f}%\")"
   ]
  },
  {
   "attachments": {},
   "cell_type": "markdown",
   "metadata": {},
   "source": [
    "## Section Summary:\n",
    "In this section, we calculated the minimum volume of oil reserves required for a well to break even. With a development budget of ```$100 million spread across 200 wells, each well requires reserves of at least 111,111.11 barrels to cover costs at a revenue rate of``` $4.50 per barrel. The average volume of reserves in all three regions was 92.50 thousand barrels, which is significantly below the required threshold for profitability.\n",
    "\n",
    "This analysis highlights a potential challenge: none of the regions meet the necessary average reserve volume to guarantee profit. This insight underscores the importance of selecting only the top-performing wells in each area for development to maximize revenue and minimize losses.\n"
   ]
  },
  {
   "attachments": {},
   "cell_type": "markdown",
   "metadata": {},
   "source": [
    "# Conclusion\n",
    "This project aimed to determine the most profitable region for developing a new oil well by analyzing geological data from three areas. Linear regression models were used to predict oil reserves, with performance evaluated using RMSE and average predicted reserves. The models demonstrated consistent RMSE values across all regions, indicating similar predictive accuracy. Despite these results, the profit calculations revealed that none of the regions achieved the required reserve volume to break even at a revenue rate of $4.50 per barrel. The bootstrapping analysis further confirmed significant risks, with a 100% loss probability across all regions and negative mean profits. This suggests that developing wells in the areas analyzed, under the given conditions, is not financially viable without additional data or alternative strategies to mitigate risks.\n",
    "\n",
    "​"
   ]
  },
  {
   "attachments": {},
   "cell_type": "markdown",
   "metadata": {},
   "source": []
  },
  {
   "attachments": {},
   "cell_type": "markdown",
   "metadata": {},
   "source": []
  }
 ],
 "metadata": {
  "kernelspec": {
   "display_name": "Python 3",
   "language": "python",
   "name": "python3"
  },
  "language_info": {
   "codemirror_mode": {
    "name": "ipython",
    "version": 3
   },
   "file_extension": ".py",
   "mimetype": "text/x-python",
   "name": "python",
   "nbconvert_exporter": "python",
   "pygments_lexer": "ipython3",
   "version": "3.10.9"
  },
  "orig_nbformat": 4
 },
 "nbformat": 4,
 "nbformat_minor": 2
}
